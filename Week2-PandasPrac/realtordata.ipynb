{
 "cells": [
  {
   "cell_type": "markdown",
   "id": "03f31907-63d8-48b2-a19d-873a3eea6a51",
   "metadata": {},
   "source": [
    " import pandas as pd\n",
    "import xlrd\n",
    "import matplotlib\n",
    "\n",
    "data = pd.read_excel('rea.xlsx')\n",
    " print(\"data\")\n",
    "# # print(data.info())\n",
    "#len(data)\n",
    "\n",
    "\n",
    "# price = data['price']\n",
    "# print(price)\n",
    "\n",
    "# price = price.astype('int32')\n",
    "# print(data.dtypes)\n",
    "\n",
    "data.dropna(subset=['bed', 'bath', 'acre_lot', 'house_size', 'price'], inplace=True)\n",
    "data.reset_index(drop=True, inplace=True)\n",
    "\n",
    "def meanEval(file,column_head):\n",
    "    dataF = file['{}'.format(column_head)]\n",
    "    mean = dataF.mean()\n",
    "    print(\"The mean is {}\".format(mean))\n",
    "    dataF.fillna(mean,inplace = True)\n",
    "    print(dataF.tail(n=10))\n",
    "\n",
    "def medianEval(file,column_head):\n",
    "    dataF = file['{}'.format(column_head)]\n",
    "    median = dataF.median()\n",
    "    print(\"The median is {}\".format(median))\n",
    "\n",
    "print(data.info())\n",
    "\n",
    "meanEval(data,'price')\n",
    "\n",
    "\n",
    "sold_date = data['prev_sold_date'].astype('int64')\n",
    "date_mean = sold_date.mean()\n",
    "\n",
    "data['prev_sold_date'].fillna(pd.to_datetime(date_mean),inplace = True)\n",
    "print(data['prev_sold_date'].tail())\n",
    "\n",
    "brokered_by = data['brokered_by']\n",
    "broker_mean = brokered_by.mean()\n",
    "print(broker_mean)\n",
    "broker_null = brokered_by.isna().any()\n",
    "if broker_null:\n",
    "    data['brokered_by'].fillna(broker_mean,inplace = True)\n",
    "    print(data['brokered_by'].tail())\n",
    "else:\n",
    "    print(\"no null values\")\n",
    "\n",
    "\n",
    "#truncating value\n",
    "#Finding empty , null values within a row"
   ]
  },
  {
   "cell_type": "code",
   "execution_count": 2,
   "id": "08e25de5-dc27-4fb4-83e1-d30857a91b18",
   "metadata": {},
   "outputs": [
    {
     "name": "stdout",
     "output_type": "stream",
     "text": [
      "<class 'pandas.core.frame.DataFrame'>\n",
      "RangeIndex: 10053 entries, 0 to 10052\n",
      "Data columns (total 12 columns):\n",
      " #   Column          Non-Null Count  Dtype         \n",
      "---  ------          --------------  -----         \n",
      " 0   brokered_by     10050 non-null  float64       \n",
      " 1   status          10053 non-null  object        \n",
      " 2   price           10053 non-null  int64         \n",
      " 3   bed             7273 non-null   float64       \n",
      " 4   bath            7293 non-null   float64       \n",
      " 5   acre_lot        8829 non-null   float64       \n",
      " 6   street          9995 non-null   float64       \n",
      " 7   city            10018 non-null  object        \n",
      " 8   state           10036 non-null  object        \n",
      " 9   zip_code        10025 non-null  float64       \n",
      " 10  house_size      7262 non-null   float64       \n",
      " 11  prev_sold_date  3148 non-null   datetime64[ns]\n",
      "dtypes: datetime64[ns](1), float64(7), int64(1), object(3)\n",
      "memory usage: 942.6+ KB\n",
      "None\n"
     ]
    }
   ],
   "source": [
    "import pandas as pd\n",
    "df = pd.read_excel('rea.xlsx')\n",
    "\n",
    "\n",
    "print(df.info())"
   ]
  },
  {
   "cell_type": "code",
   "execution_count": null,
   "id": "54c08590-78af-4a0e-b592-ffc6c522900d",
   "metadata": {},
   "outputs": [],
   "source": []
  }
 ],
 "metadata": {
  "kernelspec": {
   "display_name": "Python 3 (ipykernel)",
   "language": "python",
   "name": "python3"
  },
  "language_info": {
   "codemirror_mode": {
    "name": "ipython",
    "version": 3
   },
   "file_extension": ".py",
   "mimetype": "text/x-python",
   "name": "python",
   "nbconvert_exporter": "python",
   "pygments_lexer": "ipython3",
   "version": "3.11.7"
  }
 },
 "nbformat": 4,
 "nbformat_minor": 5
}
